{
  "cells": [
    {
      "cell_type": "markdown",
      "metadata": {
        "id": "800B0R9xfSvF"
      },
      "source": [
        "# Imports"
      ]
    },
    {
      "cell_type": "code",
      "execution_count": null,
      "metadata": {
        "id": "pssI2OO4d7mg"
      },
      "outputs": [],
      "source": [
        "import warnings\n",
        "warnings.filterwarnings('ignore')\n",
        "\n",
        "import pandas as pd\n",
        "import os\n",
        "import matplotlib.pyplot as plt\n",
        "from scipy import stats\n",
        "import numpy as np\n",
        "from sklearn.preprocessing import StandardScaler"
      ]
    },
    {
      "cell_type": "markdown",
      "metadata": {
        "id": "iVo6u7LyfWsx"
      },
      "source": [
        "# Loading Data"
      ]
    },
    {
      "cell_type": "code",
      "execution_count": null,
      "metadata": {
        "colab": {
          "base_uri": "https://localhost:8080/"
        },
        "id": "-NVC8ofNfWHc",
        "outputId": "6951437a-5974-40ad-a77b-7cf8e77cc96b"
      },
      "outputs": [
        {
          "output_type": "stream",
          "name": "stdout",
          "text": [
            "Mounted at /content/gdrive\n"
          ]
        }
      ],
      "source": [
        "from google.colab import drive\n",
        "drive.mount('/content/gdrive')"
      ]
    },
    {
      "cell_type": "code",
      "execution_count": null,
      "metadata": {
        "id": "lZzL9ZIaflep"
      },
      "outputs": [],
      "source": [
        "path = os.path.join(os.getcwd(), \"gdrive\", \"MyDrive\",\"ORIE 5741 Final Project\", \"Data\")\n",
        "raw_data = pd.read_csv(os.path.join(path, \"hotel_bookings.csv\")).drop(['reservation_status_date', 'reservation_status'], axis=1)"
      ]
    },
    {
      "cell_type": "code",
      "execution_count": null,
      "metadata": {
        "colab": {
          "base_uri": "https://localhost:8080/"
        },
        "id": "lOax3L84gFT-",
        "outputId": "5608fb72-f567-4625-9ece-fbe1bab3a360"
      },
      "outputs": [
        {
          "output_type": "stream",
          "name": "stdout",
          "text": [
            "Columns in dataset:\n",
            "Index(['hotel', 'is_canceled', 'lead_time', 'arrival_date_year',\n",
            "       'arrival_date_month', 'arrival_date_week_number',\n",
            "       'arrival_date_day_of_month', 'stays_in_weekend_nights',\n",
            "       'stays_in_week_nights', 'adults', 'children', 'babies', 'meal',\n",
            "       'country', 'market_segment', 'distribution_channel',\n",
            "       'is_repeated_guest', 'previous_cancellations',\n",
            "       'previous_bookings_not_canceled', 'reserved_room_type',\n",
            "       'assigned_room_type', 'booking_changes', 'deposit_type', 'agent',\n",
            "       'company', 'days_in_waiting_list', 'customer_type', 'adr',\n",
            "       'required_car_parking_spaces', 'total_of_special_requests'],\n",
            "      dtype='object')\n"
          ]
        }
      ],
      "source": [
        "# columns in data\n",
        "print(\"Columns in dataset:\")\n",
        "print(raw_data.columns)"
      ]
    },
    {
      "cell_type": "code",
      "source": [
        "# working with a subset of the data\n",
        "raw_data = raw_data.sample(frac=0.2, random_state=1)"
      ],
      "metadata": {
        "id": "gh_dGYLuXRhi"
      },
      "execution_count": null,
      "outputs": []
    },
    {
      "cell_type": "markdown",
      "metadata": {
        "id": "tXFpQg5hs-RG"
      },
      "source": [
        "# Exploratory Data Analysis"
      ]
    },
    {
      "cell_type": "markdown",
      "source": [
        "## Percent Cancellations"
      ],
      "metadata": {
        "id": "T1ZcMNi4kdiI"
      }
    },
    {
      "cell_type": "code",
      "execution_count": null,
      "metadata": {
        "id": "zzNQYnhjHyRQ",
        "colab": {
          "base_uri": "https://localhost:8080/",
          "height": 428
        },
        "outputId": "f793752d-d2e6-42eb-e3a4-93c8e28ee34d"
      },
      "outputs": [
        {
          "output_type": "display_data",
          "data": {
            "text/plain": [
              "<Figure size 640x480 with 1 Axes>"
            ],
            "image/png": "[encoded data removed]"
          },
          "metadata": {}
        }
      ],
      "source": [
        "canceled = len(raw_data[raw_data['is_canceled'] == 1])\n",
        "not_canceled = len(raw_data[raw_data['is_canceled'] == 0])\n",
        "total = len(raw_data)\n",
        "def fmt(x):\n",
        "    return '{:.2f}%'.format(x, total*x/100)\n",
        "\n",
        "plt.pie([canceled/total, not_canceled/total], labels=['Canceled', 'Not Canceled'], autopct=fmt)\n",
        "plt.title('Proportion of Canceled Bookings');"
      ]
    },
    {
      "cell_type": "markdown",
      "source": [
        "## Cancellations Over Time"
      ],
      "metadata": {
        "id": "MSm-KMqgkvIh"
      }
    },
    {
      "cell_type": "code",
      "source": [
        "months = [\"January\", \"February\", \"March\", \"April\", \"May\", \"June\", \n",
        "          \"July\", \"August\", \"September\", \"October\", \"November\", \"December\"]\n",
        "\n",
        "canceled_df = raw_data.groupby(['arrival_date_year', 'arrival_date_month'], as_index=False)['is_canceled'].sum()\n",
        "canceled_df['arrival_date_month'] = pd.Categorical(canceled_df['arrival_date_month'], categories=months, ordered=True)\n",
        "canceled_df = canceled_df.sort_values(['arrival_date_year', 'arrival_date_month'])\n",
        "canceled_df['month_year'] = canceled_df['arrival_date_month'].astype(str).str[:3] + ' ' + canceled_df['arrival_date_year'].astype(str)\n",
        "\n",
        "total_df = raw_data.groupby(['arrival_date_year', 'arrival_date_month'], as_index=False)['is_canceled'].count()\n",
        "total_df['arrival_date_month'] = pd.Categorical(total_df['arrival_date_month'], categories=months, ordered=True)\n",
        "total_df = total_df.sort_values(['arrival_date_year', 'arrival_date_month'])\n",
        "total_df['month_year'] = total_df['arrival_date_month'].astype(str).str[:3] + ' ' + total_df['arrival_date_year'].astype(str)\n",
        "\n",
        "plt.figure(figsize=(30, 10))\n",
        "plt.bar(total_df['month_year'], total_df['is_canceled'], width = 0.7)\n",
        "plt.bar(canceled_df['month_year'], canceled_df['is_canceled'], width = 0.7)\n",
        "plt.title('Canceled Bookings Over Time')\n",
        "plt.xlabel('Date')\n",
        "plt.ylabel('Number of Bookings')\n",
        "\n",
        "plt.legend(['Total', 'Canceled']);"
      ],
      "metadata": {
        "colab": {
          "base_uri": "https://localhost:8080/",
          "height": 485
        },
        "id": "fkiD1c4FkxQS",
        "outputId": "4619eb33-3cb3-450d-ffcd-f132dd042c6b"
      },
      "execution_count": null,
      "outputs": [
        {
          "output_type": "display_data",
          "data": {
            "text/plain": [
              "<Figure size 3000x1000 with 1 Axes>"
            ],
            "image/png": "[encoded data removed]"
          },
          "metadata": {}
        }
      ]
    },
    {
      "cell_type": "markdown",
      "metadata": {
        "id": "Khqo-qKTkiua"
      },
      "source": [
        "# Data Preprocessing"
      ]
    },
    {
      "cell_type": "markdown",
      "metadata": {
        "id": "umKoooKgqi4z"
      },
      "source": [
        "## Cleaning"
      ]
    },
    {
      "cell_type": "code",
      "execution_count": null,
      "metadata": {
        "colab": {
          "base_uri": "https://localhost:8080/"
        },
        "id": "yTeBLspaikOf",
        "outputId": "4cd05b9b-109c-46cc-b809-f481cd806476"
      },
      "outputs": [
        {
          "output_type": "stream",
          "name": "stdout",
          "text": [
            "Columns with null values:\n",
            "['children', 'country', 'agent', 'company']\n"
          ]
        }
      ],
      "source": [
        "print(\"Columns with null values:\")\n",
        "print(raw_data.columns[raw_data.isna().any()].tolist())"
      ]
    },
    {
      "cell_type": "code",
      "execution_count": null,
      "metadata": {
        "colab": {
          "base_uri": "https://localhost:8080/"
        },
        "id": "h_o05gN4i8tu",
        "outputId": "cea34252-2af8-4f01-e2af-c7139b1f82c8"
      },
      "outputs": [
        {
          "output_type": "stream",
          "name": "stdout",
          "text": [
            "Number of null values in children column: 1\n",
            "Number of null values in country column: 103\n",
            "Number of null values in agent column: 3374\n",
            "Number of null values in company column: 22460\n"
          ]
        }
      ],
      "source": [
        "print(\"Number of null values in children column:\", len(raw_data[raw_data['children'].isna() == True]))\n",
        "print(\"Number of null values in country column:\", len(raw_data[raw_data['country'].isna() == True]))\n",
        "print(\"Number of null values in agent column:\", len(raw_data[raw_data['agent'].isna() == True]))\n",
        "print(\"Number of null values in company column:\", len(raw_data[raw_data['company'].isna() == True]))"
      ]
    },
    {
      "cell_type": "code",
      "execution_count": null,
      "metadata": {
        "id": "Q4SsrnWkhXA0"
      },
      "outputs": [],
      "source": [
        "# dropping null values in country column \n",
        "# since it is a not a significant portion of data\n",
        "raw_data = raw_data[raw_data['country'].isna() == False]"
      ]
    },
    {
      "cell_type": "code",
      "execution_count": null,
      "metadata": {
        "id": "tmtGaLVumNNR"
      },
      "outputs": [],
      "source": [
        "# replacing null values with 0 in children column\n",
        "raw_data['children'] = raw_data['children'].fillna(0)"
      ]
    },
    {
      "cell_type": "code",
      "execution_count": null,
      "metadata": {
        "colab": {
          "base_uri": "https://localhost:8080/"
        },
        "id": "nL0_4i5-m_mL",
        "outputId": "4faaca8e-5692-4833-fc10-015b69a75f21"
      },
      "outputs": [
        {
          "output_type": "stream",
          "name": "stdout",
          "text": [
            "Unique agents:\n",
            "[  1.   2.   3.   4.   5.   6.   7.   8.   9.  10.  11.  12.  13.  14.\n",
            "  15.  16.  17.  19.  20.  21.  22.  23.  24.  25.  26.  27.  28.  29.\n",
            "  30.  31.  32.  33.  34.  35.  36.  37.  38.  39.  40.  41.  42.  44.\n",
            "  45.  47.  50.  52.  53.  55.  56.  57.  58.  60.  63.  64.  66.  67.\n",
            "  68.  69.  71.  72.  74.  75.  77.  78.  79.  81.  82.  83.  85.  86.\n",
            "  87.  88.  89.  90.  91.  92.  94.  95.  96.  98.  99. 103. 104. 105.\n",
            " 106. 110. 111. 112. 115. 117. 118. 119. 121. 126. 127. 128. 129. 132.\n",
            " 133. 134. 135. 138. 139. 141. 142. 143. 146. 147. 149. 150. 151. 152.\n",
            " 153. 154. 155. 156. 157. 158. 159. 162. 163. 165. 168. 170. 171. 173.\n",
            " 174. 175. 177. 179. 181. 182. 183. 184. 185. 187. 191. 192. 193. 195.\n",
            " 196. 197. 201. 205. 208. 210. 213. 214. 215. 219. 220. 223. 227. 229.\n",
            " 234. 235. 236. 240. 241. 242. 243. 244. 245. 248. 249. 250. 251. 252.\n",
            " 253. 254. 256. 257. 261. 262. 267. 269. 270. 273. 275. 281. 286. 287.\n",
            " 288. 290. 296. 298. 305. 306. 307. 308. 310. 313. 314. 315. 321. 323.\n",
            " 324. 326. 327. 330. 332. 334. 336. 339. 344. 348. 350. 354. 355. 359.\n",
            " 360. 363. 364. 368. 371. 375. 378. 385. 387. 390. 391. 393. 394. 403.\n",
            " 410. 411. 418. 423. 425. 426. 429. 430. 434. 436. 440. 441. 450. 455.\n",
            " 459. 464. 467. 468. 474. 475. 476. 479. 481. 483. 484. 492. 493. 495.\n",
            " 502. 508. 509. 526. 527. 531.  nan]\n",
            "Total Number: 259\n"
          ]
        }
      ],
      "source": [
        "# looking at unique agents in dataset\n",
        "unique_agents = raw_data['agent'].unique()\n",
        "unique_agents.sort()\n",
        "print(\"Unique agents:\")\n",
        "print(unique_agents)\n",
        "print(\"Total Number:\", len(unique_agents))\n",
        "\n",
        "# replacing null values with 0 in agent column\n",
        "raw_data['agent'] = raw_data['agent'].fillna(0)"
      ]
    },
    {
      "cell_type": "code",
      "execution_count": null,
      "metadata": {
        "colab": {
          "base_uri": "https://localhost:8080/"
        },
        "id": "fqvAd9RTncmS",
        "outputId": "4e391cef-08ca-4f02-9865-6815f3c49f9f"
      },
      "outputs": [
        {
          "output_type": "stream",
          "name": "stdout",
          "text": [
            "Unique companies:\n",
            "[  9.  11.  12.  14.  16.  18.  20.  22.  31.  34.  37.  38.  40.  43.\n",
            "  45.  46.  47.  51.  59.  61.  62.  67.  68.  71.  72.  73.  78.  81.\n",
            "  82.  86.  88.  91.  92.  93.  94.  96.  99. 100. 102. 105. 106. 107.\n",
            " 108. 110. 112. 113. 116. 118. 120. 122. 130. 135. 137. 142. 143. 144.\n",
            " 146. 148. 150. 153. 154. 158. 159. 163. 165. 167. 169. 174. 178. 179.\n",
            " 183. 185. 186. 193. 195. 197. 200. 202. 203. 204. 207. 209. 215. 216.\n",
            " 218. 219. 220. 221. 223. 227. 229. 233. 238. 242. 243. 245. 250. 251.\n",
            " 254. 255. 257. 263. 268. 269. 270. 272. 274. 275. 278. 280. 281. 282.\n",
            " 286. 289. 290. 292. 297. 304. 305. 307. 308. 311. 312. 314. 317. 321.\n",
            " 323. 324. 325. 329. 331. 333. 334. 337. 338. 342. 343. 346. 348. 349.\n",
            " 351. 353. 355. 357. 358. 360. 361. 364. 365. 366. 367. 369. 371. 372.\n",
            " 376. 377. 379. 380. 382. 383. 384. 385. 388. 390. 394. 396. 397. 399.\n",
            " 405. 407. 408. 409. 410. 416. 418. 421. 424. 435. 437. 439. 443. 450.\n",
            " 451. 452. 455. 456. 458. 459. 465. 477. 479. 484. 485. 486. 491. 494.\n",
            " 496. 497. 498. 504. 507. 511. 512. 513. 516. 521. 523. 525. 530. 534.\n",
            " 539. 543.  nan]\n",
            "Total Number: 213\n"
          ]
        }
      ],
      "source": [
        "# looking at unique agents in dataset\n",
        "unique_companies = raw_data['company'].unique()\n",
        "unique_companies.sort()\n",
        "print(\"Unique companies:\")\n",
        "print(unique_companies)\n",
        "print(\"Total Number:\", len(unique_companies))\n",
        "\n",
        "# replacing null values with 0 in company column\n",
        "raw_data['company'] = raw_data['company'].fillna(0)"
      ]
    },
    {
      "cell_type": "code",
      "execution_count": null,
      "metadata": {
        "id": "p1Z1mnyOoY4G"
      },
      "outputs": [],
      "source": [
        "# numerical columns\n",
        "numerical_cols = ['lead_time', 'stays_in_weekend_nights',\n",
        "                'stays_in_week_nights', 'adults', 'children', 'babies',\n",
        "                'previous_cancellations', 'previous_bookings_not_canceled', \n",
        "                'booking_changes', 'days_in_waiting_list', 'adr',\n",
        "                'required_car_parking_spaces', 'total_of_special_requests']\n",
        "\n",
        "# categorical columns\n",
        "ordinal_cols = ['arrival_date_year', 'arrival_date_month', \n",
        "                'arrival_date_week_number', 'arrival_date_day_of_month', \n",
        "                'agent', 'company']\n",
        "boolean = ['is_repeated_guest', 'is_canceled']\n",
        "nominal_cols = ['hotel', 'meal', 'country', 'market_segment', \n",
        "                'distribution_channel', 'reserved_room_type',\n",
        "                'assigned_room_type', 'deposit_type', 'customer_type']"
      ]
    },
    {
      "cell_type": "markdown",
      "metadata": {
        "id": "4k-dsaHsqeCY"
      },
      "source": [
        "## Correlation Analysis"
      ]
    },
    {
      "cell_type": "code",
      "execution_count": null,
      "metadata": {
        "id": "gokwrUMlqgoQ"
      },
      "outputs": [],
      "source": [
        "numeric = raw_data[numerical_cols]\n",
        "res = stats.spearmanr(numeric)"
      ]
    },
    {
      "cell_type": "code",
      "execution_count": null,
      "metadata": {
        "colab": {
          "base_uri": "https://localhost:8080/",
          "height": 419
        },
        "id": "0hBKE7k_rAKU",
        "outputId": "2e2926ec-5d7d-4332-9ef9-4e3eb379ad93"
      },
      "outputs": [
        {
          "output_type": "display_data",
          "data": {
            "text/plain": [
              "<Figure size 480x480 with 2 Axes>"
            ],
            "image/png": "[encoded data removed]"
          },
          "metadata": {}
        }
      ],
      "source": [
        "plt.matshow(pd.DataFrame(res.statistic))\n",
        "plt.colorbar()\n",
        "plt.show()"
      ]
    },
    {
      "cell_type": "code",
      "execution_count": null,
      "metadata": {
        "colab": {
          "base_uri": "https://localhost:8080/"
        },
        "id": "RLXMHmv7rlFv",
        "outputId": "338e2d1f-46a8-415d-96fc-5e982004cc05"
      },
      "outputs": [
        {
          "output_type": "stream",
          "name": "stdout",
          "text": [
            "Variables with high correlation:\n",
            "[]\n"
          ]
        }
      ],
      "source": [
        "high_corr = np.where((res.statistic > 0.5) | (res.statistic < -0.5))\n",
        "high_corr =[(res.statistic.columns[x], res.statistic.columns[y]) for x, y in zip(*high_corr) if x!=y and x<y]\n",
        "print(\"Variables with high correlation:\")\n",
        "print(high_corr)"
      ]
    },
    {
      "cell_type": "markdown",
      "metadata": {
        "id": "4Jz8M4CIs3nx"
      },
      "source": [
        "## Encoding Categorical Variables"
      ]
    },
    {
      "cell_type": "markdown",
      "source": [
        "### Encoding Nominal"
      ],
      "metadata": {
        "id": "H9bJO0MQiXND"
      }
    },
    {
      "cell_type": "code",
      "source": [
        "raw_data['arrival_date_month'] = raw_data['arrival_date_month'].replace({'January': 1, \n",
        "                                                                         'February': 2,\n",
        "                                                                         'March': 3, \n",
        "                                                                         'April': 4, \n",
        "                                                                         'May': 5, \n",
        "                                                                         'June': 6,\n",
        "                                                                         'July': 7,\n",
        "                                                                         'August': 8,\n",
        "                                                                         'September': 9,\n",
        "                                                                         'October': 10,\n",
        "                                                                         'November': 11,\n",
        "                                                                         'December': 12})"
      ],
      "metadata": {
        "id": "bUQcmyDajDxb"
      },
      "execution_count": null,
      "outputs": []
    },
    {
      "cell_type": "markdown",
      "source": [
        "### Encoding Categorical"
      ],
      "metadata": {
        "id": "30LaTokNiZ-z"
      }
    },
    {
      "cell_type": "code",
      "source": [
        "raw_data = pd.get_dummies(raw_data, prefix=nominal_cols, columns=nominal_cols)"
      ],
      "metadata": {
        "id": "7LO8DPtrjopN"
      },
      "execution_count": null,
      "outputs": []
    },
    {
      "cell_type": "code",
      "source": [
        "# final dataset\n",
        "raw_data"
      ],
      "metadata": {
        "colab": {
          "base_uri": "https://localhost:8080/",
          "height": 505
        },
        "id": "s3wDznjz4aMW",
        "outputId": "208bdafe-68de-4a5b-b30d-d1f547c4c693"
      },
      "execution_count": null,
      "outputs": [
        {
          "output_type": "execute_result",
          "data": {
            "text/plain": [
              "        is_canceled  lead_time  arrival_date_year  arrival_date_month  \\\n",
              "8030              1        238               2016                   9   \n",
              "37532             0         33               2017                   6   \n",
              "76865             1        239               2015                  10   \n",
              "1960              0         64               2015                   9   \n",
              "98971             0         34               2016                  10   \n",
              "...             ...        ...                ...                 ...   \n",
              "101117            0         44               2016                  11   \n",
              "84909             0         39               2016                   3   \n",
              "99765             0         10               2016                  10   \n",
              "62196             1         33               2017                   1   \n",
              "33201             0         94               2017                   2   \n",
              "\n",
              "        arrival_date_week_number  arrival_date_day_of_month  \\\n",
              "8030                          37                          7   \n",
              "37532                         25                         19   \n",
              "76865                         42                         17   \n",
              "1960                          39                         24   \n",
              "98971                         41                          2   \n",
              "...                          ...                        ...   \n",
              "101117                        45                          1   \n",
              "84909                         10                          4   \n",
              "99765                         42                         13   \n",
              "62196                          1                          4   \n",
              "33201                          7                         13   \n",
              "\n",
              "        stays_in_weekend_nights  stays_in_week_nights  adults  children  ...  \\\n",
              "8030                          0                     3       1       0.0  ...   \n",
              "37532                         1                     1       2       0.0  ...   \n",
              "76865                         0                     1       2       0.0  ...   \n",
              "1960                          0                     3       2       0.0  ...   \n",
              "98971                         2                     3       2       0.0  ...   \n",
              "...                         ...                   ...     ...       ...  ...   \n",
              "101117                        0                     5       2       0.0  ...   \n",
              "84909                         0                     2       1       0.0  ...   \n",
              "99765                         1                     3       3       0.0  ...   \n",
              "62196                         0                     4       1       0.0  ...   \n",
              "33201                         1                     3       3       0.0  ...   \n",
              "\n",
              "        assigned_room_type_I  assigned_room_type_K  assigned_room_type_P  \\\n",
              "8030                       0                     0                     0   \n",
              "37532                      0                     0                     0   \n",
              "76865                      0                     0                     0   \n",
              "1960                       0                     0                     0   \n",
              "98971                      0                     0                     0   \n",
              "...                      ...                   ...                   ...   \n",
              "101117                     0                     0                     0   \n",
              "84909                      0                     0                     0   \n",
              "99765                      0                     0                     0   \n",
              "62196                      0                     0                     0   \n",
              "33201                      0                     0                     0   \n",
              "\n",
              "        deposit_type_No Deposit  deposit_type_Non Refund  \\\n",
              "8030                          0                        1   \n",
              "37532                         1                        0   \n",
              "76865                         0                        1   \n",
              "1960                          1                        0   \n",
              "98971                         1                        0   \n",
              "...                         ...                      ...   \n",
              "101117                        1                        0   \n",
              "84909                         1                        0   \n",
              "99765                         1                        0   \n",
              "62196                         1                        0   \n",
              "33201                         1                        0   \n",
              "\n",
              "        deposit_type_Refundable  customer_type_Contract  customer_type_Group  \\\n",
              "8030                          0                       0                    0   \n",
              "37532                         0                       0                    0   \n",
              "76865                         0                       0                    0   \n",
              "1960                          0                       0                    0   \n",
              "98971                         0                       0                    0   \n",
              "...                         ...                     ...                  ...   \n",
              "101117                        0                       0                    0   \n",
              "84909                         0                       0                    0   \n",
              "99765                         0                       0                    0   \n",
              "62196                         0                       0                    0   \n",
              "33201                         0                       0                    0   \n",
              "\n",
              "        customer_type_Transient  customer_type_Transient-Party  \n",
              "8030                          1                              0  \n",
              "37532                         1                              0  \n",
              "76865                         1                              0  \n",
              "1960                          1                              0  \n",
              "98971                         1                              0  \n",
              "...                         ...                            ...  \n",
              "101117                        1                              0  \n",
              "84909                         0                              1  \n",
              "99765                         1                              0  \n",
              "62196                         1                              0  \n",
              "33201                         0                              1  \n",
              "\n",
              "[23775 rows x 203 columns]"
            ],
            "text/html": [
              "\n",
              "  <div id=\"df-7055d599-3d7f-457b-8e48-bb5b5e9ee6cb\">\n",
              "    <div class=\"colab-df-container\">\n",
              "      <div>\n",
              "<style scoped>\n",
              "    .dataframe tbody tr th:only-of-type {\n",
              "        vertical-align: middle;\n",
              "    }\n",
              "\n",
              "    .dataframe tbody tr th {\n",
              "        vertical-align: top;\n",
              "    }\n",
              "\n",
              "    .dataframe thead th {\n",
              "        text-align: right;\n",
              "    }\n",
              "</style>\n",
              "<table border=\"1\" class=\"dataframe\">\n",
              "  <thead>\n",
              "    <tr style=\"text-align: right;\">\n",
              "      <th></th>\n",
              "      <th>is_canceled</th>\n",
              "      <th>lead_time</th>\n",
              "      <th>arrival_date_year</th>\n",
              "      <th>arrival_date_month</th>\n",
              "      <th>arrival_date_week_number</th>\n",
              "      <th>arrival_date_day_of_month</th>\n",
              "      <th>stays_in_weekend_nights</th>\n",
              "      <th>stays_in_week_nights</th>\n",
              "      <th>adults</th>\n",
              "      <th>children</th>\n",
              "      <th>...</th>\n",
              "      <th>assigned_room_type_I</th>\n",
              "      <th>assigned_room_type_K</th>\n",
              "      <th>assigned_room_type_P</th>\n",
              "      <th>deposit_type_No Deposit</th>\n",
              "      <th>deposit_type_Non Refund</th>\n",
              "      <th>deposit_type_Refundable</th>\n",
              "      <th>customer_type_Contract</th>\n",
              "      <th>customer_type_Group</th>\n",
              "      <th>customer_type_Transient</th>\n",
              "      <th>customer_type_Transient-Party</th>\n",
              "    </tr>\n",
              "  </thead>\n",
              "  <tbody>\n",
              "    <tr>\n",
              "      <th>8030</th>\n",
              "      <td>1</td>\n",
              "      <td>238</td>\n",
              "      <td>2016</td>\n",
              "      <td>9</td>\n",
              "      <td>37</td>\n",
              "      <td>7</td>\n",
              "      <td>0</td>\n",
              "      <td>3</td>\n",
              "      <td>1</td>\n",
              "      <td>0.0</td>\n",
              "      <td>...</td>\n",
              "      <td>0</td>\n",
              "      <td>0</td>\n",
              "      <td>0</td>\n",
              "      <td>0</td>\n",
              "      <td>1</td>\n",
              "      <td>0</td>\n",
              "      <td>0</td>\n",
              "      <td>0</td>\n",
              "      <td>1</td>\n",
              "      <td>0</td>\n",
              "    </tr>\n",
              "    <tr>\n",
              "      <th>37532</th>\n",
              "      <td>0</td>\n",
              "      <td>33</td>\n",
              "      <td>2017</td>\n",
              "      <td>6</td>\n",
              "      <td>25</td>\n",
              "      <td>19</td>\n",
              "      <td>1</td>\n",
              "      <td>1</td>\n",
              "      <td>2</td>\n",
              "      <td>0.0</td>\n",
              "      <td>...</td>\n",
              "      <td>0</td>\n",
              "      <td>0</td>\n",
              "      <td>0</td>\n",
              "      <td>1</td>\n",
              "      <td>0</td>\n",
              "      <td>0</td>\n",
              "      <td>0</td>\n",
              "      <td>0</td>\n",
              "      <td>1</td>\n",
              "      <td>0</td>\n",
              "    </tr>\n",
              "    <tr>\n",
              "      <th>76865</th>\n",
              "      <td>1</td>\n",
              "      <td>239</td>\n",
              "      <td>2015</td>\n",
              "      <td>10</td>\n",
              "      <td>42</td>\n",
              "      <td>17</td>\n",
              "      <td>0</td>\n",
              "      <td>1</td>\n",
              "      <td>2</td>\n",
              "      <td>0.0</td>\n",
              "      <td>...</td>\n",
              "      <td>0</td>\n",
              "      <td>0</td>\n",
              "      <td>0</td>\n",
              "      <td>0</td>\n",
              "      <td>1</td>\n",
              "      <td>0</td>\n",
              "      <td>0</td>\n",
              "      <td>0</td>\n",
              "      <td>1</td>\n",
              "      <td>0</td>\n",
              "    </tr>\n",
              "    <tr>\n",
              "      <th>1960</th>\n",
              "      <td>0</td>\n",
              "      <td>64</td>\n",
              "      <td>2015</td>\n",
              "      <td>9</td>\n",
              "      <td>39</td>\n",
              "      <td>24</td>\n",
              "      <td>0</td>\n",
              "      <td>3</td>\n",
              "      <td>2</td>\n",
              "      <td>0.0</td>\n",
              "      <td>...</td>\n",
              "      <td>0</td>\n",
              "      <td>0</td>\n",
              "      <td>0</td>\n",
              "      <td>1</td>\n",
              "      <td>0</td>\n",
              "      <td>0</td>\n",
              "      <td>0</td>\n",
              "      <td>0</td>\n",
              "      <td>1</td>\n",
              "      <td>0</td>\n",
              "    </tr>\n",
              "    <tr>\n",
              "      <th>98971</th>\n",
              "      <td>0</td>\n",
              "      <td>34</td>\n",
              "      <td>2016</td>\n",
              "      <td>10</td>\n",
              "      <td>41</td>\n",
              "      <td>2</td>\n",
              "      <td>2</td>\n",
              "      <td>3</td>\n",
              "      <td>2</td>\n",
              "      <td>0.0</td>\n",
              "      <td>...</td>\n",
              "      <td>0</td>\n",
              "      <td>0</td>\n",
              "      <td>0</td>\n",
              "      <td>1</td>\n",
              "      <td>0</td>\n",
              "      <td>0</td>\n",
              "      <td>0</td>\n",
              "      <td>0</td>\n",
              "      <td>1</td>\n",
              "      <td>0</td>\n",
              "    </tr>\n",
              "    <tr>\n",
              "      <th>...</th>\n",
              "      <td>...</td>\n",
              "      <td>...</td>\n",
              "      <td>...</td>\n",
              "      <td>...</td>\n",
              "      <td>...</td>\n",
              "      <td>...</td>\n",
              "      <td>...</td>\n",
              "      <td>...</td>\n",
              "      <td>...</td>\n",
              "      <td>...</td>\n",
              "      <td>...</td>\n",
              "      <td>...</td>\n",
              "      <td>...</td>\n",
              "      <td>...</td>\n",
              "      <td>...</td>\n",
              "      <td>...</td>\n",
              "      <td>...</td>\n",
              "      <td>...</td>\n",
              "      <td>...</td>\n",
              "      <td>...</td>\n",
              "      <td>...</td>\n",
              "    </tr>\n",
              "    <tr>\n",
              "      <th>101117</th>\n",
              "      <td>0</td>\n",
              "      <td>44</td>\n",
              "      <td>2016</td>\n",
              "      <td>11</td>\n",
              "      <td>45</td>\n",
              "      <td>1</td>\n",
              "      <td>0</td>\n",
              "      <td>5</td>\n",
              "      <td>2</td>\n",
              "      <td>0.0</td>\n",
              "      <td>...</td>\n",
              "      <td>0</td>\n",
              "      <td>0</td>\n",
              "      <td>0</td>\n",
              "      <td>1</td>\n",
              "      <td>0</td>\n",
              "      <td>0</td>\n",
              "      <td>0</td>\n",
              "      <td>0</td>\n",
              "      <td>1</td>\n",
              "      <td>0</td>\n",
              "    </tr>\n",
              "    <tr>\n",
              "      <th>84909</th>\n",
              "      <td>0</td>\n",
              "      <td>39</td>\n",
              "      <td>2016</td>\n",
              "      <td>3</td>\n",
              "      <td>10</td>\n",
              "      <td>4</td>\n",
              "      <td>0</td>\n",
              "      <td>2</td>\n",
              "      <td>1</td>\n",
              "      <td>0.0</td>\n",
              "      <td>...</td>\n",
              "      <td>0</td>\n",
              "      <td>0</td>\n",
              "      <td>0</td>\n",
              "      <td>1</td>\n",
              "      <td>0</td>\n",
              "      <td>0</td>\n",
              "      <td>0</td>\n",
              "      <td>0</td>\n",
              "      <td>0</td>\n",
              "      <td>1</td>\n",
              "    </tr>\n",
              "    <tr>\n",
              "      <th>99765</th>\n",
              "      <td>0</td>\n",
              "      <td>10</td>\n",
              "      <td>2016</td>\n",
              "      <td>10</td>\n",
              "      <td>42</td>\n",
              "      <td>13</td>\n",
              "      <td>1</td>\n",
              "      <td>3</td>\n",
              "      <td>3</td>\n",
              "      <td>0.0</td>\n",
              "      <td>...</td>\n",
              "      <td>0</td>\n",
              "      <td>0</td>\n",
              "      <td>0</td>\n",
              "      <td>1</td>\n",
              "      <td>0</td>\n",
              "      <td>0</td>\n",
              "      <td>0</td>\n",
              "      <td>0</td>\n",
              "      <td>1</td>\n",
              "      <td>0</td>\n",
              "    </tr>\n",
              "    <tr>\n",
              "      <th>62196</th>\n",
              "      <td>1</td>\n",
              "      <td>33</td>\n",
              "      <td>2017</td>\n",
              "      <td>1</td>\n",
              "      <td>1</td>\n",
              "      <td>4</td>\n",
              "      <td>0</td>\n",
              "      <td>4</td>\n",
              "      <td>1</td>\n",
              "      <td>0.0</td>\n",
              "      <td>...</td>\n",
              "      <td>0</td>\n",
              "      <td>0</td>\n",
              "      <td>0</td>\n",
              "      <td>1</td>\n",
              "      <td>0</td>\n",
              "      <td>0</td>\n",
              "      <td>0</td>\n",
              "      <td>0</td>\n",
              "      <td>1</td>\n",
              "      <td>0</td>\n",
              "    </tr>\n",
              "    <tr>\n",
              "      <th>33201</th>\n",
              "      <td>0</td>\n",
              "      <td>94</td>\n",
              "      <td>2017</td>\n",
              "      <td>2</td>\n",
              "      <td>7</td>\n",
              "      <td>13</td>\n",
              "      <td>1</td>\n",
              "      <td>3</td>\n",
              "      <td>3</td>\n",
              "      <td>0.0</td>\n",
              "      <td>...</td>\n",
              "      <td>0</td>\n",
              "      <td>0</td>\n",
              "      <td>0</td>\n",
              "      <td>1</td>\n",
              "      <td>0</td>\n",
              "      <td>0</td>\n",
              "      <td>0</td>\n",
              "      <td>0</td>\n",
              "      <td>0</td>\n",
              "      <td>1</td>\n",
              "    </tr>\n",
              "  </tbody>\n",
              "</table>\n",
              "<p>23775 rows × 203 columns</p>\n",
              "</div>\n",
              "      <button class=\"colab-df-convert\" onclick=\"convertToInteractive('df-7055d599-3d7f-457b-8e48-bb5b5e9ee6cb')\"\n",
              "              title=\"Convert this dataframe to an interactive table.\"\n",
              "              style=\"display:none;\">\n",
              "        \n",
              "  <svg xmlns=\"http://www.w3.org/2000/svg\" height=\"24px\"viewBox=\"0 0 24 24\"\n",
              "       width=\"24px\">\n",
              "    <path d=\"M0 0h24v24H0V0z\" fill=\"none\"/>\n",
              "    <path d=\"M18.56 5.44l.94 2.06.94-2.06 2.06-.94-2.06-.94-.94-2.06-.94 2.06-2.06.94zm-11 1L8.5 8.5l.94-2.06 2.06-.94-2.06-.94L8.5 2.5l-.94 2.06-2.06.94zm10 10l.94 2.06.94-2.06 2.06-.94-2.06-.94-.94-2.06-.94 2.06-2.06.94z\"/><path d=\"M17.41 7.96l-1.37-1.37c-.4-.4-.92-.59-1.43-.59-.52 0-1.04.2-1.43.59L10.3 9.45l-7.72 7.72c-.78.78-.78 2.05 0 2.83L4 21.41c.39.39.9.59 1.41.59.51 0 1.02-.2 1.41-.59l7.78-7.78 2.81-2.81c.8-.78.8-2.07 0-2.86zM5.41 20L4 18.59l7.72-7.72 1.47 1.35L5.41 20z\"/>\n",
              "  </svg>\n",
              "      </button>\n",
              "      \n",
              "  <style>\n",
              "    .colab-df-container {\n",
              "      display:flex;\n",
              "      flex-wrap:wrap;\n",
              "      gap: 12px;\n",
              "    }\n",
              "\n",
              "    .colab-df-convert {\n",
              "      background-color: #E8F0FE;\n",
              "      border: none;\n",
              "      border-radius: 50%;\n",
              "      cursor: pointer;\n",
              "      display: none;\n",
              "      fill: #1967D2;\n",
              "      height: 32px;\n",
              "      padding: 0 0 0 0;\n",
              "      width: 32px;\n",
              "    }\n",
              "\n",
              "    .colab-df-convert:hover {\n",
              "      background-color: #E2EBFA;\n",
              "      box-shadow: 0px 1px 2px rgba(60, 64, 67, 0.3), 0px 1px 3px 1px rgba(60, 64, 67, 0.15);\n",
              "      fill: #174EA6;\n",
              "    }\n",
              "\n",
              "    [theme=dark] .colab-df-convert {\n",
              "      background-color: #3B4455;\n",
              "      fill: #D2E3FC;\n",
              "    }\n",
              "\n",
              "    [theme=dark] .colab-df-convert:hover {\n",
              "      background-color: #434B5C;\n",
              "      box-shadow: 0px 1px 3px 1px rgba(0, 0, 0, 0.15);\n",
              "      filter: drop-shadow(0px 1px 2px rgba(0, 0, 0, 0.3));\n",
              "      fill: #FFFFFF;\n",
              "    }\n",
              "  </style>\n",
              "\n",
              "      <script>\n",
              "        const buttonEl =\n",
              "          document.querySelector('#df-7055d599-3d7f-457b-8e48-bb5b5e9ee6cb button.colab-df-convert');\n",
              "        buttonEl.style.display =\n",
              "          google.colab.kernel.accessAllowed ? 'block' : 'none';\n",
              "\n",
              "        async function convertToInteractive(key) {\n",
              "          const element = document.querySelector('#df-7055d599-3d7f-457b-8e48-bb5b5e9ee6cb');\n",
              "          const dataTable =\n",
              "            await google.colab.kernel.invokeFunction('convertToInteractive',\n",
              "                                                     [key], {});\n",
              "          if (!dataTable) return;\n",
              "\n",
              "          const docLinkHtml = 'Like what you see? Visit the ' +\n",
              "            '<a target=\"_blank\" href=https://colab.research.google.com/notebooks/data_table.ipynb>data table notebook</a>'\n",
              "            + ' to learn more about interactive tables.';\n",
              "          element.innerHTML = '';\n",
              "          dataTable['output_type'] = 'display_data';\n",
              "          await google.colab.output.renderOutput(dataTable, element);\n",
              "          const docLink = document.createElement('div');\n",
              "          docLink.innerHTML = docLinkHtml;\n",
              "          element.appendChild(docLink);\n",
              "        }\n",
              "      </script>\n",
              "    </div>\n",
              "  </div>\n",
              "  "
            ]
          },
          "metadata": {},
          "execution_count": 20
        }
      ]
    },
    {
      "cell_type": "markdown",
      "source": [
        "# Exporting Processed Dataset"
      ],
      "metadata": {
        "id": "1B8O5o2xk7uV"
      }
    },
    {
      "cell_type": "code",
      "source": [
        "raw_data.to_csv('processed_hotel_bookings.csv')"
      ],
      "metadata": {
        "id": "jKQgRpy9k-qk"
      },
      "execution_count": null,
      "outputs": []
    }
  ],
  "metadata": {
    "colab": {
      "provenance": []
    },
    "kernelspec": {
      "display_name": "Python 3",
      "name": "python3"
    },
    "language_info": {
      "name": "python"
    }
  },
  "nbformat": 4,
  "nbformat_minor": 0
}